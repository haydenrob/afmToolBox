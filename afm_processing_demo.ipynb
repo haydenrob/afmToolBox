{
 "cells": [
  {
   "cell_type": "markdown",
   "id": "097f5c96",
   "metadata": {},
   "source": [
    "# afmToolBox\n",
    "This example breifly demonstrates how to use the toolbox, which is designed to process atomic force microscopy (AFM) approach and retraction curves from a Bruker Multimode AFM. Modifications can be made to process data from other AFMs. The software is also capable of determining the final pull-off event by a method of rolling averages, which can then be subsequently used in calculations of the Worm-like chain (WLC) model. Further information on the WLC model is explored by [Butt, Cappella and Kappl](https://doi.org/10.1016/j.surfrep.2005.08.003)."
   ]
  },
  {
   "cell_type": "markdown",
   "id": "366bdf34",
   "metadata": {},
   "source": [
    "We start by loading in the appropriate packages. "
   ]
  },
  {
   "cell_type": "code",
   "execution_count": 1,
   "id": "c714b6de",
   "metadata": {},
   "outputs": [],
   "source": [
    "from afm_bruker import AFM\n",
    "import glob"
   ]
  },
  {
   "cell_type": "markdown",
   "id": "2fcb37d7",
   "metadata": {},
   "source": [
    "## Load the data"
   ]
  },
  {
   "cell_type": "code",
   "execution_count": 2,
   "metadata": {},
   "outputs": [],
   "source": [
    "fh = \"1mM_KSCN\"\n",
    "files = sorted(glob.glob(\"example_data/\" + \"*.txt\"))"
   ]
  },
  {
   "cell_type": "markdown",
   "id": "865dd4cf",
   "metadata": {},
   "source": [
    "## Batch process our curves\n",
    "Here we load the `AFM` Class and use `batch_process` to load all data in `files`, baseline correct (`basline_corr`) and perform a calibration (`x_cal`) on all the data.\n",
    "Processed data and figures are then saved in a 'processed_data' folder, which is created if it doesn't exist.\n",
    "As `WLC = True` here, the software will also determine the final pull-off event (`final_pulloff`) and fit the WLC model to the final pull-off event (`wlc_fit`). A summary of the WLC parameters are also saved in `wlc_summary.xlsx` spreadsheet."
   ]
  },
  {
   "cell_type": "code",
   "execution_count": 3,
   "metadata": {},
   "outputs": [
    {
     "data": {
      "application/vnd.jupyter.widget-view+json": {
       "model_id": "a4d80141ac5640c1b1d935c32b75e5e0",
       "version_major": 2,
       "version_minor": 0
      },
      "text/plain": [
       "HBox(children=(IntProgress(value=0, max=5), HTML(value='')))"
      ]
     },
     "metadata": {},
     "output_type": "display_data"
    },
    {
     "name": "stdout",
     "output_type": "stream",
     "text": [
      "\n",
      "5 curves processed and 0 curves discarded.\n"
     ]
    }
   ],
   "source": [
    "afm = AFM()\n",
    "afm.batch_process(files, WLC=True, method=\"differential_evolution\")"
   ]
  },
  {
   "cell_type": "code",
   "execution_count": 4,
   "id": "cc74b6b9",
   "metadata": {},
   "outputs": [
    {
     "name": "stdout",
     "output_type": "stream",
     "text": [
      "Polymer MW: 58823.11 g/mol\n",
      "Grafting Density: 0.1935 chains/m$^2$\n",
      "Chain density: 1 chain per 2.27 nm\n",
      "Radius of gyration: 7.07 nm\n",
      "Reduced grafting density: 30.35\n"
     ]
    }
   ],
   "source": [
    "afm.summary_stats(True)"
   ]
  },
  {
   "cell_type": "code",
   "execution_count": null,
   "id": "05edaa78",
   "metadata": {},
   "outputs": [],
   "source": []
  }
 ],
 "metadata": {
  "interpreter": {
   "hash": "7c4f170ae954685ced5b32251fa4a1723141ad47520d6d53bda15162199e9ad7"
  },
  "kernelspec": {
   "display_name": "Python 3.7.4 64-bit ('base': conda)",
   "name": "python3"
  },
  "language_info": {
   "codemirror_mode": {
    "name": "ipython",
    "version": 3
   },
   "file_extension": ".py",
   "mimetype": "text/x-python",
   "name": "python",
   "nbconvert_exporter": "python",
   "pygments_lexer": "ipython3",
   "version": "3.7.4"
  }
 },
 "nbformat": 4,
 "nbformat_minor": 5
}
